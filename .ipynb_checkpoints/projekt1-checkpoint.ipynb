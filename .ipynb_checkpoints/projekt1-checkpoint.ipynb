{
 "cells": [
  {
   "cell_type": "code",
   "execution_count": 23,
   "metadata": {},
   "outputs": [],
   "source": [
    "import pandas as pd \n",
    "import numpy as np\n",
    "import matplotlib.pyplot as plt\n",
    "import random\n",
    "p = 0.1\n",
    "infect_p = 0.3\n",
    "n = 5"
   ]
  },
  {
   "cell_type": "code",
   "execution_count": 27,
   "metadata": {},
   "outputs": [],
   "source": [
    "#Węzeł\n",
    "class Node:\n",
    "    def __init__(self, infected, index):\n",
    "        self.infected = infected\n",
    "        self.index = index\n",
    "    \n",
    "    def __repr__(self):\n",
    "        return str(self.index) + \": \" + str(self.infected)\n",
    "\n",
    "#Krawędź\n",
    "class Link:\n",
    "    def __init__(self, a ,b):\n",
    "        self.a, self.b = a, b\n",
    "        \n",
    "    def __repr__(self):\n",
    "        return str(self.a) + str(self.b)\n",
    "        \n",
    "#Graf\n",
    "class Graph:\n",
    "    def __init__(self, n):\n",
    "        self.nodes = []\n",
    "        self.links = [[]]\n",
    "        self.nodes = [Node(False, i) for i in range(n)]\n",
    "        self.links = [[x] for x in self.nodes]\n",
    "        for a in self.links:\n",
    "            for b in self.links:\n",
    "                if (a != b) and (random.random() < p):\n",
    "                    a.append(b[0])\n",
    "                    b.append(a[0])\n",
    "                    \n",
    "    \n",
    "    def infect(self, n):\n",
    "        for i in range(n):\n",
    "            for node in self.links:\n",
    "                for neighboor in node:\n",
    "                    if (neighboor != node[0]) and (node[0].infected == True) and (random.random() < infect_p):\n",
    "                        neighboor.infected = True\n",
    "                    \n",
    "    "
   ]
  },
  {
   "cell_type": "code",
   "execution_count": 31,
   "metadata": {
    "scrolled": false
   },
   "outputs": [
    {
     "data": {
      "text/plain": [
       "[[0: False],\n",
       " [1: False, 2: False, 2: False],\n",
       " [2: False, 1: False, 1: False],\n",
       " [3: False, 4: False],\n",
       " [4: False, 3: False]]"
      ]
     },
     "execution_count": 31,
     "metadata": {},
     "output_type": "execute_result"
    }
   ],
   "source": [
    "g = Graph(n)\n",
    "g.links"
   ]
  },
  {
   "cell_type": "code",
   "execution_count": 33,
   "metadata": {
    "scrolled": false
   },
   "outputs": [],
   "source": [
    "g.links[random.randint(0, n-1)][0].infected = True"
   ]
  },
  {
   "cell_type": "code",
   "execution_count": 34,
   "metadata": {
    "scrolled": false
   },
   "outputs": [
    {
     "data": {
      "text/plain": [
       "[[0: False],\n",
       " [1: False, 2: False, 2: False],\n",
       " [2: False, 1: False, 1: False],\n",
       " [3: True, 4: False],\n",
       " [4: False, 3: True]]"
      ]
     },
     "execution_count": 34,
     "metadata": {},
     "output_type": "execute_result"
    }
   ],
   "source": [
    "g.links"
   ]
  },
  {
   "cell_type": "code",
   "execution_count": 10,
   "metadata": {},
   "outputs": [],
   "source": [
    "g.infect(5)"
   ]
  },
  {
   "cell_type": "code",
   "execution_count": 194,
   "metadata": {},
   "outputs": [
    {
     "data": {
      "text/plain": [
       "[[0: True, 2: True],\n",
       " [1: True, 2: True, 9: True, 0: True],\n",
       " [2: True],\n",
       " [3: True, 1: True, 7: True],\n",
       " [4: False],\n",
       " [5: False],\n",
       " [6: False],\n",
       " [7: True],\n",
       " [8: False, 4: False, 5: False],\n",
       " [9: True, 0: True]]"
      ]
     },
     "execution_count": 194,
     "metadata": {},
     "output_type": "execute_result"
    }
   ],
   "source": [
    "g.links"
   ]
  },
  {
   "cell_type": "code",
   "execution_count": null,
   "metadata": {},
   "outputs": [],
   "source": []
  }
 ],
 "metadata": {
  "kernelspec": {
   "display_name": "Python 3",
   "language": "python",
   "name": "python3"
  },
  "language_info": {
   "codemirror_mode": {
    "name": "ipython",
    "version": 3
   },
   "file_extension": ".py",
   "mimetype": "text/x-python",
   "name": "python",
   "nbconvert_exporter": "python",
   "pygments_lexer": "ipython3",
   "version": "3.7.4"
  }
 },
 "nbformat": 4,
 "nbformat_minor": 2
}
