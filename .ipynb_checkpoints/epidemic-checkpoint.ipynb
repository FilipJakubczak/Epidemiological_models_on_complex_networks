{
 "cells": [
  {
   "cell_type": "code",
   "execution_count": 2,
   "metadata": {},
   "outputs": [],
   "source": [
    "import pandas as pd \n",
    "import numpy as np\n",
    "import matplotlib.pyplot as plt\n",
    "import seaborn as sns\n",
    "plt.rcParams.update({'font.size': 22})"
   ]
  },
  {
   "cell_type": "code",
   "execution_count": 159,
   "metadata": {},
   "outputs": [],
   "source": [
    "class NetworkGenerator():\n",
    "    '''Class defining a network generator'''\n",
    "    def erdos_renyi(self, nodes = 1000, probability = 0.05, random_state = None):\n",
    "        '''Creates a network using erdos-renyi method with given number of nodes by randomly connecting pairs\n",
    "\n",
    "        Args:\n",
    "            nodes (int): The number of nodes,\n",
    "            probability (float): The probability of connecting two nodes,\n",
    "            random_state (int): Random state of the generator\n",
    "\n",
    "        '''\n",
    "        random = np.random.RandomState(random_state)\n",
    "        \n",
    "        links = [[Node(Node.states['susceptible'], i)] for i in range(nodes)]\n",
    "        for a in links:\n",
    "            for b in links:\n",
    "                if (a != b) and (random.random_sample() < probability) and (a[0] not in b):\n",
    "                    a.append(b[0])\n",
    "                    b.append(a[0])\n",
    "        links = np.array(links)\n",
    "        return Graph(links)\n",
    "    \n",
    "    def watts_strogatz(self, nodes, rank, probability, random_state=None):\n",
    "        if rank % 2 != 0:\n",
    "            raise Exception('Rank should be even.')\n",
    "        random = np.random.RandomState(random_state)\n",
    "        links = [[Node(Node.states['susceptible'], i)] for i in range(nodes)]\n",
    "        for i, a in enumerate(links):\n",
    "            for j in range(i + 1, i + rank // 2):\n",
    "                if j >= nodes:\n",
    "                    j -= nodes\n",
    "                a.append(links[j][0])\n",
    "                links[j].append(a[0])\n",
    "                if random.random_sample() < probability:\n",
    "                    a.remove(links[j][0])\n",
    "                    links[j].remove(a[0])\n",
    "                    while True:\n",
    "                        random_node = random.randint(0, len(links))\n",
    "                        if random_node != i and random_node != i + 1 and random_node != i - 1:\n",
    "                            break\n",
    "                    a.append(links[random_node][0])\n",
    "                    links[random_node].append(a[0])\n",
    "        links = np.array(links)\n",
    "        return Graph(links)\n",
    "        \n",
    "\n",
    "\n",
    "class Node:\n",
    "    '''Class defining a node in graph\n",
    "\n",
    "    Attributes:\n",
    "        infected (bool): Describes if node is infected or not,\n",
    "        immune (bool): Describes if node is immune to future infections, \n",
    "        index (int): Represents node index\n",
    "    '''\n",
    "    states = {'susceptible': 0, 'infected': 1, 'recovered': 2}\n",
    "    \n",
    "    def __init__(self, state, index):\n",
    "        self.state = state\n",
    "        self.index = index\n",
    "    \n",
    "    def __repr__(self):\n",
    "        return repr(self.index) + \": \" + repr({v: k for k, v in self.states.items()}[self.state])\n",
    "\n",
    "class Graph:\n",
    "    '''Class defining a graph\n",
    "\n",
    "    Attributes:\n",
    "        links (:obj:`list` of :obj:`list` of :obj:`Node`): List of connections between nodes\n",
    "    '''\n",
    "    def __init__(self, links):\n",
    "        self.links = links\n",
    "        self.susceptible, self.infected, self.recovered = [], [], []\n",
    "                    \n",
    "    \n",
    "    def infect(self, model = 'SI', iterations = 20,\n",
    "               si_p = 0.01, ir_p = 0.01, is_p = 0.01, rs_p = 0.01, reset = True, random_state = None):\n",
    "        '''Selects random node as patient zero and performs the infection process among all nodes. New, total and \n",
    "        actual cases are stored in appropiate lists.\n",
    "\n",
    "        Args:\n",
    "            model (string): The selected model of infection,\n",
    "            iterations (int): The number of iterations,\n",
    "            si_p (float): The infection probability,\n",
    "            ir_p (float): The recover probability,\n",
    "            new (:obj:`list` of :obj:`int`): The list of new cases,\n",
    "            total (:obj:`list` of :obj:`int`): The list of total cases,\n",
    "            actual (:obj:`list` of :obj:`int`): The list of actual cases\n",
    "\n",
    "        '''\n",
    "        random = np.random.RandomState(random_state)\n",
    "        \n",
    "        if reset == True:\n",
    "            for node in self.links:\n",
    "                node[0].state = Node.states['susceptible']\n",
    "            self.susceptible.clear()\n",
    "            self.infected.clear()\n",
    "            self.recovered.clear()\n",
    "        \n",
    "        if model == 'SI':\n",
    "            ir_p = 0\n",
    "            is_p = 0\n",
    "            rs_p = 0\n",
    "        elif model == 'SIS':\n",
    "            ir_p = 0\n",
    "            rs_p = 0\n",
    "        elif model == 'SIR':\n",
    "            is_p = 0\n",
    "            rs_p = 0\n",
    "        elif model == 'SIRS':\n",
    "            is_p = 0\n",
    "        else:\n",
    "            raise Exception('Model is not defined')\n",
    "        \n",
    "        \n",
    "        patient_zero = random.randint(0, len(self.links))\n",
    "        self.links[patient_zero][0].state = Node.states['infected']\n",
    "        for i in range(iterations):\n",
    "            sus, inf, rec = 0, 0, 0\n",
    "            for node in self.links:\n",
    "                if node[0].state == Node.states['infected']:\n",
    "                    if random.random_sample() < ir_p:\n",
    "                        node[0].state = Node.states['recovered']\n",
    "                        rec += 1\n",
    "                        inf -= 1\n",
    "                    if random.random_sample() < is_p:\n",
    "                        node[0].state = Node.states['susceptible']\n",
    "                        sus += 1\n",
    "                        inf -= 1\n",
    "                if node[0].state == Node.states['recovered']:\n",
    "                    if random.random_sample() < rs_p:\n",
    "                        node[0].state = Node.states['susceptible']\n",
    "                        sus += 1\n",
    "                        rec -= 1\n",
    "                if node[0].state == Node.states['infected']:\n",
    "                    for neighboor in node:\n",
    "                        if neighboor != node[0] and \\\n",
    "                            neighboor.state == Node.states['susceptible'] and \\\n",
    "                            random.random_sample() < si_p:\n",
    "                            neighboor.state = Node.states['infected']\n",
    "                            inf += 1\n",
    "                            sus -= 1\n",
    "                        \n",
    "            self.susceptible.append(sus)\n",
    "            self.infected.append(inf)\n",
    "            self.recovered.append(rec)\n",
    "            \n",
    "            self.total_infected = np.cumsum(self.infected)\n",
    "            self.total_recovered = np.cumsum(self.recovered)\n",
    "            self.total_susceptible = len(self.links) + np.cumsum(self.susceptible)"
   ]
  },
  {
   "cell_type": "code",
   "execution_count": 165,
   "metadata": {
    "scrolled": true
   },
   "outputs": [],
   "source": [
    "ng = NetworkGenerator()\n",
    "er = ng.erdos_renyi(nodes = 1000, probability = 0.01, random_state = 1)\n",
    "ws = ng.watts_strogatz(nodes = 1000, rank=20, probability=0.1)"
   ]
  },
  {
   "cell_type": "code",
   "execution_count": 166,
   "metadata": {
    "scrolled": true
   },
   "outputs": [],
   "source": [
    "er.infect(model = 'SIRS', iterations = 200, random_state = 1)\n",
    "ws.infect(model = 'SI', iterations = 200, random_state = 1)"
   ]
  },
  {
   "cell_type": "code",
   "execution_count": 167,
   "metadata": {
    "scrolled": false
   },
   "outputs": [
    {
     "data": {
      "image/png": "[encoded data removed]",
      "text/plain": [
       "<Figure size 1080x720 with 1 Axes>"
      ]
     },
     "metadata": {
      "needs_background": "light"
     },
     "output_type": "display_data"
    }
   ],
   "source": [
    "fig, ax =  plt.subplots(figsize=(15,10))\n",
    "x, y = range(0, len(ws.infected)), [case for case in ws.total_infected]\n",
    "ax.plot(x, y, color = 'red')\n",
    "ax.set_ylabel(\"Total infected\", color = 'tab:red')\n",
    "\n",
    "fig.tight_layout()\n",
    "plt.show()"
   ]
  },
  {
   "cell_type": "code",
   "execution_count": null,
   "metadata": {},
   "outputs": [],
   "source": []
  }
 ],
 "metadata": {
  "kernelspec": {
   "display_name": "Python 3",
   "language": "python",
   "name": "python3"
  },
  "language_info": {
   "codemirror_mode": {
    "name": "ipython",
    "version": 3
   },
   "file_extension": ".py",
   "mimetype": "text/x-python",
   "name": "python",
   "nbconvert_exporter": "python",
   "pygments_lexer": "ipython3",
   "version": "3.7.4"
  }
 },
 "nbformat": 4,
 "nbformat_minor": 2
}
